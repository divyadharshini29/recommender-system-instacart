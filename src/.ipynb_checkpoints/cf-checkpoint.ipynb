{
 "cells": [
  {
   "cell_type": "code",
   "execution_count": 2,
   "metadata": {},
   "outputs": [],
   "source": [
    "# Imports\n",
    "\n",
    "from pathlib import Path\n",
    "from datetime import datetime\n",
    "\n",
    "import scipy.sparse as sparse\n",
    "import implicit\n",
    "import pandas as pd\n",
    "import numpy as np\n",
    "import pickle"
   ]
  },
  {
   "cell_type": "code",
   "execution_count": 30,
   "metadata": {},
   "outputs": [],
   "source": [
    "# Helper Functions\n",
    "\n",
    "def sparsity(matrix):\n",
    "    total_size = matrix.shape[0] * matrix.shape[1]\n",
    "    actual_size = matrix.size\n",
    "    sparsity = (1 - (actual_size / total_size)) * 100\n",
    "    return(sparsity)\n",
    "\n",
    "\n",
    "def timestamp():\n",
    "    now = datetime.now()\n",
    "    return \"{}_{}_{}_{}{}\".format(now.year, now.month, now.day, now.hour, now.minute)"
   ]
  },
  {
   "cell_type": "markdown",
   "metadata": {},
   "source": [
    "## Load datasets"
   ]
  },
  {
   "cell_type": "code",
   "execution_count": 4,
   "metadata": {},
   "outputs": [],
   "source": [
    "def make_test_data(test_data_path):\n",
    "    # Read train and test order csvs\n",
    "    df_order_products_train = pd.read_csv(\"../data/order_products__train.csv\")\n",
    "    df_order_products_submission = pd.read_csv(\"../data/sample_submission.csv\")\n",
    "    current_order_user_df = df_orders.loc[(df_orders.eval_set == \"train\") | (df_orders.eval_set == \"test\")].reset_index()\n",
    "    current_order_user_df = current_order_user_df[[\"order_id\", \"user_id\"]]\n",
    "\n",
    "    assert len(current_order_user_df[\"order_id\"].unique()) == len(df_order_products_train[\"order_id\"].unique()) + len(df_order_products_submission[\"order_id\"].unique())\n",
    "\n",
    "    # Convert train and submission dataframes into the same format\n",
    "    df_order_products_train = df_order_products_train[[\"order_id\", \"product_id\"]]\n",
    "    df_order_products_train = df_order_products_train.groupby(\"order_id\")[\"product_id\"].apply(list).reset_index().rename(columns={\"product_id\": \"products\"})\n",
    "    df_order_products_submission[\"products\"] = df_order_products_submission[\"products\"].apply(lambda p: p.strip().split())\n",
    "\n",
    "    test = set(df_order_products_submission[\"order_id\"].unique().tolist())\n",
    "    train = set(df_order_products_train[\"order_id\"].unique().tolist())\n",
    "    assert len(test & train) == 0\n",
    "\n",
    "    df_test_order_products = pd.concat([df_order_products_train, df_order_products_submission])\n",
    "\n",
    "    assert df_test_order_products.size == df_order_products_train.size + df_order_products_submission.size\n",
    "    assert df_test_order_products.size == current_order_user_df.size\n",
    "\n",
    "    df_test_user_products = pd.merge(current_order_user_df, df_test_order_products, on=\"order_id\")\n",
    "    df_test_user_products = df_test_user_products[[\"user_id\", \"products\"]]\n",
    "\n",
    "    df_test_user_products.to_csv(test_data_path, index_label=False)\n",
    "\n",
    "\n",
    "# Order datasets\n",
    "df_order_products_prior = pd.read_csv(\"../data/order_products__prior.csv\")\n",
    "df_orders = pd.read_csv(\"../data/orders.csv\") # If test data csv doesn't exist already, create it\n",
    "\n",
    "test_data_path = \"../data/test_user_products.csv\"\n",
    "if not Path(test_data_path).is_file():\n",
    "    make_test_data(test_data_path)\n",
    "df_test_user_products = pd.read_csv(test_data_path)"
   ]
  },
  {
   "cell_type": "code",
   "execution_count": 5,
   "metadata": {},
   "outputs": [],
   "source": [
    "# Merge Prior orders and Products\n",
    "df_products = pd.read_csv(\"../data/products.csv\")\n",
    "\n",
    "df_order_products_prior_merged = pd.merge(df_order_products_prior, df_products, on=\"product_id\", how=\"left\")"
   ]
  },
  {
   "cell_type": "code",
   "execution_count": 6,
   "metadata": {},
   "outputs": [
    {
     "data": {
      "text/html": [
       "<div>\n",
       "<style>\n",
       "    .dataframe thead tr:only-child th {\n",
       "        text-align: right;\n",
       "    }\n",
       "\n",
       "    .dataframe thead th {\n",
       "        text-align: left;\n",
       "    }\n",
       "\n",
       "    .dataframe tbody tr th {\n",
       "        vertical-align: top;\n",
       "    }\n",
       "</style>\n",
       "<table border=\"1\" class=\"dataframe\">\n",
       "  <thead>\n",
       "    <tr style=\"text-align: right;\">\n",
       "      <th></th>\n",
       "      <th>order_id</th>\n",
       "      <th>product_id</th>\n",
       "      <th>add_to_cart_order</th>\n",
       "      <th>reordered</th>\n",
       "      <th>product_name</th>\n",
       "      <th>aisle_id</th>\n",
       "      <th>department_id</th>\n",
       "    </tr>\n",
       "  </thead>\n",
       "  <tbody>\n",
       "    <tr>\n",
       "      <th>0</th>\n",
       "      <td>2</td>\n",
       "      <td>33120</td>\n",
       "      <td>1</td>\n",
       "      <td>1</td>\n",
       "      <td>Organic Egg Whites</td>\n",
       "      <td>86</td>\n",
       "      <td>16</td>\n",
       "    </tr>\n",
       "    <tr>\n",
       "      <th>1</th>\n",
       "      <td>2</td>\n",
       "      <td>28985</td>\n",
       "      <td>2</td>\n",
       "      <td>1</td>\n",
       "      <td>Michigan Organic Kale</td>\n",
       "      <td>83</td>\n",
       "      <td>4</td>\n",
       "    </tr>\n",
       "    <tr>\n",
       "      <th>2</th>\n",
       "      <td>2</td>\n",
       "      <td>9327</td>\n",
       "      <td>3</td>\n",
       "      <td>0</td>\n",
       "      <td>Garlic Powder</td>\n",
       "      <td>104</td>\n",
       "      <td>13</td>\n",
       "    </tr>\n",
       "    <tr>\n",
       "      <th>3</th>\n",
       "      <td>2</td>\n",
       "      <td>45918</td>\n",
       "      <td>4</td>\n",
       "      <td>1</td>\n",
       "      <td>Coconut Butter</td>\n",
       "      <td>19</td>\n",
       "      <td>13</td>\n",
       "    </tr>\n",
       "    <tr>\n",
       "      <th>4</th>\n",
       "      <td>2</td>\n",
       "      <td>30035</td>\n",
       "      <td>5</td>\n",
       "      <td>0</td>\n",
       "      <td>Natural Sweetener</td>\n",
       "      <td>17</td>\n",
       "      <td>13</td>\n",
       "    </tr>\n",
       "  </tbody>\n",
       "</table>\n",
       "</div>"
      ],
      "text/plain": [
       "   order_id  product_id  add_to_cart_order  reordered           product_name  \\\n",
       "0         2       33120                  1          1     Organic Egg Whites   \n",
       "1         2       28985                  2          1  Michigan Organic Kale   \n",
       "2         2        9327                  3          0          Garlic Powder   \n",
       "3         2       45918                  4          1         Coconut Butter   \n",
       "4         2       30035                  5          0      Natural Sweetener   \n",
       "\n",
       "   aisle_id  department_id  \n",
       "0        86             16  \n",
       "1        83              4  \n",
       "2       104             13  \n",
       "3        19             13  \n",
       "4        17             13  "
      ]
     },
     "execution_count": 6,
     "metadata": {},
     "output_type": "execute_result"
    }
   ],
   "source": [
    "df_order_products_prior_merged.head()"
   ]
  },
  {
   "cell_type": "markdown",
   "metadata": {},
   "source": [
    "## Load Product Item Matrix"
   ]
  },
  {
   "cell_type": "code",
   "execution_count": 7,
   "metadata": {},
   "outputs": [
    {
     "data": {
      "text/plain": [
       "<49677x206209 sparse matrix of type '<class 'numpy.int64'>'\n",
       "\twith 13307953 stored elements in Compressed Sparse Row format>"
      ]
     },
     "execution_count": 7,
     "metadata": {},
     "output_type": "execute_result"
    }
   ],
   "source": [
    "def build_product_item_matrix(matrix_path):\n",
    "    # Consider only \"prior\" orders and remove all columns except order_id and user_id from df_orders\n",
    "    prior_order_user = df_orders.loc[df_orders.eval_set == \"prior\"]\n",
    "    prior_order_user = prior_order_user[[\"order_id\", \"user_id\"]]\n",
    "\n",
    "    # Remove all columns except order_id and user_id from df_orders\n",
    "    prior_order_product = df_order_products_prior[[\"order_id\", \"product_id\"]]\n",
    "    \n",
    "    merged_order_product_user = pd.merge(prior_order_user, prior_order_product, on=\"order_id\")\n",
    "    df_user_product = merged_order_product_user[[\"user_id\", \"product_id\"]]\n",
    "    df_user_product = df_user_product.groupby([\"user_id\", \"product_id\"]).size().reset_index().rename(columns={0:\"quantity\"})\n",
    "    \n",
    "    users = list(np.sort(df_user_product.user_id.unique()))\n",
    "    products = list(df_user_product.product_id.unique())\n",
    "    quantity = list(df_user_product.quantity)\n",
    "\n",
    "    col_indices = df_user_product.user_id.astype('category', categories = users).cat.codes \n",
    "    row_indices = df_user_product.product_id.astype('category', categories = products).cat.codes \n",
    "    product_user_matrix = sparse.csr_matrix((quantity, (row_indices, col_indices)), shape=(len(products), len(users)))\n",
    "    sparse.save_npz(matrix_path, product_user_matrix)\n",
    "\n",
    "    \n",
    "matrix_path = \"../data/product_item_matrix.npz\"\n",
    "if not Path(matrix_path).is_file():\n",
    "    build_product_item_matrix(matrix_path)\n",
    "product_user_matrix = sparse.load_npz(matrix_path)\n",
    "product_user_matrix"
   ]
  },
  {
   "cell_type": "code",
   "execution_count": 8,
   "metadata": {},
   "outputs": [
    {
     "data": {
      "text/plain": [
       "99.8700882953749"
      ]
     },
     "execution_count": 8,
     "metadata": {},
     "output_type": "execute_result"
    }
   ],
   "source": [
    "sparsity(product_user_matrix)"
   ]
  },
  {
   "cell_type": "markdown",
   "metadata": {},
   "source": [
    "## Model"
   ]
  },
  {
   "cell_type": "code",
   "execution_count": 34,
   "metadata": {},
   "outputs": [],
   "source": [
    "def build_als(factors, regularization, iterations):\n",
    "    # build model\n",
    "    model = implicit.als.AlternatingLeastSquares(factors=factors, regularization=regularization, iterations=iterations)\n",
    "    # save model to disk\n",
    "    filepath = \"../models/als/als_{}\".format(timestamp())\n",
    "    with open(filepath, \"wb+\") as f:\n",
    "        pickle.dump(model, f, pickle.HIGHEST_PROTOCOL)\n",
    "    return filepath\n",
    "\n",
    "# Build Model\n",
    "REBUILD_MODEL = False\n",
    "model_path = \"../models/als/als_2017_11_21_050.model\"\n",
    "if REBUILD_MODEL or not Path(model_path).exists():\n",
    "    model_path = build_als(factors=64, regularization=0.1, iterations=50)\n",
    "with open(model_path, \"rb\") as f:\n",
    "    als_model = pickle.load(f)"
   ]
  },
  {
   "cell_type": "code",
   "execution_count": 35,
   "metadata": {},
   "outputs": [],
   "source": [
    "# Fit model\n",
    "alpha = 40\n",
    "als_model.approximate_similar_items = False\n",
    "als_model.fit(product_user_matrix.astype(\"double\"))"
   ]
  },
  {
   "cell_type": "code",
   "execution_count": 36,
   "metadata": {},
   "outputs": [],
   "source": [
    "# recommend items for a user\n",
    "user_id = 3\n",
    "recommendations = als_model.recommend(user_id, product_user_matrix.T, N = 10)"
   ]
  },
  {
   "cell_type": "code",
   "execution_count": 37,
   "metadata": {},
   "outputs": [
    {
     "name": "stdout",
     "output_type": "stream",
     "text": [
      "Recommendations for user: 3\n"
     ]
    },
    {
     "data": {
      "text/plain": [
       "[93, 55, 968, 157, 1845, 68, 199, 468, 111, 1649]"
      ]
     },
     "execution_count": 37,
     "metadata": {},
     "output_type": "execute_result"
    }
   ],
   "source": [
    "print(\"Recommendations for user: {}\".format(user_id))\n",
    "[r[0] for r in recommendations]"
   ]
  },
  {
   "cell_type": "code",
   "execution_count": 39,
   "metadata": {},
   "outputs": [
    {
     "name": "stdout",
     "output_type": "stream",
     "text": [
      "Actual products bought by user: 3\n"
     ]
    },
    {
     "data": {
      "text/html": [
       "<div>\n",
       "<style>\n",
       "    .dataframe thead tr:only-child th {\n",
       "        text-align: right;\n",
       "    }\n",
       "\n",
       "    .dataframe thead th {\n",
       "        text-align: left;\n",
       "    }\n",
       "\n",
       "    .dataframe tbody tr th {\n",
       "        vertical-align: top;\n",
       "    }\n",
       "</style>\n",
       "<table border=\"1\" class=\"dataframe\">\n",
       "  <thead>\n",
       "    <tr style=\"text-align: right;\">\n",
       "      <th></th>\n",
       "      <th>user_id</th>\n",
       "      <th>products</th>\n",
       "    </tr>\n",
       "  </thead>\n",
       "  <tbody>\n",
       "    <tr>\n",
       "      <th>2</th>\n",
       "      <td>3</td>\n",
       "      <td>['39276', '29259']</td>\n",
       "    </tr>\n",
       "  </tbody>\n",
       "</table>\n",
       "</div>"
      ],
      "text/plain": [
       "   user_id            products\n",
       "2        3  ['39276', '29259']"
      ]
     },
     "execution_count": 39,
     "metadata": {},
     "output_type": "execute_result"
    }
   ],
   "source": [
    "print(\"Actual products bought by user: {}\".format(user_id))\n",
    "df_test_user_products.loc[df_test_user_products.user_id == user_id]"
   ]
  },
  {
   "cell_type": "markdown",
   "metadata": {},
   "source": [
    "## Evaluation"
   ]
  },
  {
   "cell_type": "code",
   "execution_count": 50,
   "metadata": {},
   "outputs": [
    {
     "ename": "ValueError",
     "evalue": "Input Vector size mismatch",
     "output_type": "error",
     "traceback": [
      "\u001b[0;31m---------------------------------------------------------------------------\u001b[0m",
      "\u001b[0;31mValueError\u001b[0m                                Traceback (most recent call last)",
      "\u001b[0;32m<ipython-input-50-080a6a1ec7d4>\u001b[0m in \u001b[0;36m<module>\u001b[0;34m()\u001b[0m\n\u001b[1;32m     19\u001b[0m \u001b[0;34m\u001b[0m\u001b[0m\n\u001b[1;32m     20\u001b[0m         \u001b[0mmodel_recalls\u001b[0m\u001b[0;34m.\u001b[0m\u001b[0mappend\u001b[0m\u001b[0;34m(\u001b[0m\u001b[0mrecall_score\u001b[0m\u001b[0;34m(\u001b[0m\u001b[0mactual\u001b[0m\u001b[0;34m,\u001b[0m \u001b[0mrecommended\u001b[0m\u001b[0;34m)\u001b[0m\u001b[0;34m)\u001b[0m\u001b[0;34m\u001b[0m\u001b[0m\n\u001b[0;32m---> 21\u001b[0;31m         \u001b[0mpopular_recalls\u001b[0m\u001b[0;34m.\u001b[0m\u001b[0mappend\u001b[0m\u001b[0;34m(\u001b[0m\u001b[0mrecall_score\u001b[0m\u001b[0;34m(\u001b[0m\u001b[0mactual\u001b[0m\u001b[0;34m,\u001b[0m \u001b[0mpopular_products\u001b[0m\u001b[0;34m[\u001b[0m\u001b[0;34m:\u001b[0m\u001b[0mlen\u001b[0m\u001b[0;34m(\u001b[0m\u001b[0mactual\u001b[0m\u001b[0;34m)\u001b[0m\u001b[0;34m]\u001b[0m\u001b[0;34m)\u001b[0m\u001b[0;34m)\u001b[0m\u001b[0;34m\u001b[0m\u001b[0m\n\u001b[0m\u001b[1;32m     22\u001b[0m         \u001b[0;32mif\u001b[0m \u001b[0mindex\u001b[0m \u001b[0;34m==\u001b[0m \u001b[0;36m1000\u001b[0m\u001b[0;34m:\u001b[0m\u001b[0;34m\u001b[0m\u001b[0m\n\u001b[1;32m     23\u001b[0m             \u001b[0;32mbreak\u001b[0m\u001b[0;34m\u001b[0m\u001b[0m\n",
      "\u001b[0;32m<ipython-input-50-080a6a1ec7d4>\u001b[0m in \u001b[0;36mrecall_score\u001b[0;34m(actual, pred)\u001b[0m\n\u001b[1;32m      1\u001b[0m \u001b[0;32mdef\u001b[0m \u001b[0mrecall_score\u001b[0m\u001b[0;34m(\u001b[0m\u001b[0mactual\u001b[0m\u001b[0;34m,\u001b[0m \u001b[0mpred\u001b[0m\u001b[0;34m)\u001b[0m\u001b[0;34m:\u001b[0m\u001b[0;34m\u001b[0m\u001b[0m\n\u001b[1;32m      2\u001b[0m     \u001b[0;32mif\u001b[0m \u001b[0mlen\u001b[0m\u001b[0;34m(\u001b[0m\u001b[0mactual\u001b[0m\u001b[0;34m)\u001b[0m \u001b[0;34m!=\u001b[0m \u001b[0mlen\u001b[0m\u001b[0;34m(\u001b[0m\u001b[0mpred\u001b[0m\u001b[0;34m)\u001b[0m\u001b[0;34m:\u001b[0m\u001b[0;34m\u001b[0m\u001b[0m\n\u001b[0;32m----> 3\u001b[0;31m         \u001b[0;32mraise\u001b[0m \u001b[0mValueError\u001b[0m\u001b[0;34m(\u001b[0m\u001b[0;34m\"Input Vector size mismatch\"\u001b[0m\u001b[0;34m)\u001b[0m\u001b[0;34m\u001b[0m\u001b[0m\n\u001b[0m\u001b[1;32m      4\u001b[0m     \u001b[0mactual\u001b[0m\u001b[0;34m,\u001b[0m \u001b[0mpred\u001b[0m \u001b[0;34m=\u001b[0m \u001b[0mset\u001b[0m\u001b[0;34m(\u001b[0m\u001b[0mactual\u001b[0m\u001b[0;34m)\u001b[0m\u001b[0;34m,\u001b[0m \u001b[0mset\u001b[0m\u001b[0;34m(\u001b[0m\u001b[0mpred\u001b[0m\u001b[0;34m)\u001b[0m\u001b[0;34m\u001b[0m\u001b[0m\n\u001b[1;32m      5\u001b[0m     \u001b[0;32mreturn\u001b[0m \u001b[0mlen\u001b[0m\u001b[0;34m(\u001b[0m\u001b[0mactual\u001b[0m\u001b[0;34m.\u001b[0m\u001b[0mintersection\u001b[0m\u001b[0;34m(\u001b[0m\u001b[0mpred\u001b[0m\u001b[0;34m)\u001b[0m\u001b[0;34m)\u001b[0m \u001b[0;34m/\u001b[0m \u001b[0mlen\u001b[0m\u001b[0;34m(\u001b[0m\u001b[0mpred\u001b[0m\u001b[0;34m)\u001b[0m\u001b[0;34m\u001b[0m\u001b[0m\n",
      "\u001b[0;31mValueError\u001b[0m: Input Vector size mismatch"
     ]
    }
   ],
   "source": [
    "def recall_score(actual, pred):\n",
    "    if len(actual) != len(pred):\n",
    "        raise ValueError(\"Input Vector size mismatch\")\n",
    "    actual, pred = set(actual), set(pred)\n",
    "    return len(actual.intersection(pred)) / len(pred)\n",
    "\n",
    "model_recalls = []\n",
    "popular_recalls = []\n",
    "popular_products = df_order_products_prior_merged[\"product_id\"].value_counts().head(50).index\n",
    "user_product_matrix = product_user_matrix.T.tocsr()\n",
    "\n",
    "for index, row in df_test_user_products.iterrows():\n",
    "    try:\n",
    "        actual = row[\"products\"][1:-1]\n",
    "        actual = [p.strip() for p in actual.strip().split(\",\")]\n",
    "    \n",
    "        recommended = model.recommend(row[\"user_id\"], user_product_matrix, N=len(actual))\n",
    "        recommended = [str(r[0]) for r in recommended]\n",
    "        \n",
    "        model_recalls.append(recall_score(actual, recommended))\n",
    "        popular_recalls.append(recall_score(actual, popular_products[:len(actual)]))\n",
    "        if index == 100:\n",
    "            break\n",
    "            \n",
    "    except IndexError as e:\n",
    "        print(\"Index Error\")\n",
    "        print(\"index: {}\".format(index))\n",
    "        print(\"row: {}\".format(row))\n",
    "        print(\"actual: {}\".format(actual))\n",
    "        raise e\n",
    "\n",
    "    \n",
    "model_mean_recall = np.mean(model_recalls)\n",
    "popular_mean_recall = np.mean(popular_recalls)\n",
    "\n",
    "print(\"Model: {}\".format(model_mean_recall))\n",
    "print(\"Popular: {}\".format(popular_mean_recall))"
   ]
  },
  {
   "cell_type": "code",
   "execution_count": null,
   "metadata": {},
   "outputs": [],
   "source": []
  }
 ],
 "metadata": {
  "kernelspec": {
   "display_name": "Python 3",
   "language": "python",
   "name": "python3"
  },
  "language_info": {
   "codemirror_mode": {
    "name": "ipython",
    "version": 3
   },
   "file_extension": ".py",
   "mimetype": "text/x-python",
   "name": "python",
   "nbconvert_exporter": "python",
   "pygments_lexer": "ipython3",
   "version": "3.6.0"
  }
 },
 "nbformat": 4,
 "nbformat_minor": 2
}
