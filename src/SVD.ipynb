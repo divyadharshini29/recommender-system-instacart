{
 "cells": [
  {
   "cell_type": "code",
   "execution_count": 1,
   "metadata": {},
   "outputs": [],
   "source": [
    "### Imports\n",
    "import pandas as pd\n",
    "import numpy as np\n",
    "import sys\n",
    "import scipy.sparse as sparse\n",
    "import scipy.sparse.linalg as linalg\n",
    "from scipy.sparse import coo_matrix, csr_matrix\n",
    "from numpy import bincount, log, sqrt\n",
    "import itertools"
   ]
  },
  {
   "cell_type": "code",
   "execution_count": 3,
   "metadata": {},
   "outputs": [],
   "source": [
    "# path for data files\n",
    "base_path_sparse_matrix=\"../sparse_matrix/\"\n",
    "base_path_factors='../factors/'\n",
    "user_product_matrix_path=base_path_sparse_matrix+\"user_product_matrix_sparse.npz\"\n",
    "product_factors_svd_path=base_path_factors+\"product_factors_svd\"\n",
    "user_factors_svd_path=base_path_factors+\"user_factors_svd\""
   ]
  },
  {
   "cell_type": "code",
   "execution_count": 4,
   "metadata": {},
   "outputs": [],
   "source": [
    "product_user_matrix=sparse.load_npz(user_product_matrix_path)"
   ]
  },
  {
   "cell_type": "code",
   "execution_count": 5,
   "metadata": {},
   "outputs": [],
   "source": [
    "def bm25_weight(X, K1=100, B=0.8):\n",
    "    \"\"\" Weighs each row of a sparse matrix X  by BM25 weighting \"\"\"\n",
    "    # calculate idf per term (user)\n",
    "    X = coo_matrix(X)\n",
    "\n",
    "    N = float(X.shape[0])\n",
    "    idf = log(N / (1 + bincount(X.col)))\n",
    "\n",
    "    # calculate length_norm per document (product)\n",
    "    row_sums = np.ravel(X.sum(axis=1))\n",
    "    average_length = row_sums.mean()\n",
    "    length_norm = (1.0 - B) + B * row_sums / average_length\n",
    "\n",
    "    # weight matrix rows by bm25\n",
    "    X.data = X.data * (K1 + 1.0) / (K1 * length_norm[X.row] + X.data) * idf[X.col]\n",
    "    return X"
   ]
  },
  {
   "cell_type": "code",
   "execution_count": 6,
   "metadata": {},
   "outputs": [],
   "source": [
    "#Calculating the product and user factors\n",
    "product_factors, _, user_factors = linalg.svds(bm25_weight(product_user_matrix), 50)"
   ]
  },
  {
   "cell_type": "code",
   "execution_count": 7,
   "metadata": {},
   "outputs": [],
   "source": [
    "# saving the user and product factors\n",
    "np.save(product_factors_svd_path, product_factors)\n",
    "np.save(user_factors_svd_path, user_factors)\n",
    "           "
   ]
  },
  {
   "cell_type": "code",
   "execution_count": 8,
   "metadata": {},
   "outputs": [],
   "source": [
    "# Helper Functions\n",
    "\n",
    "def sparsity(matrix):\n",
    "    total_size = matrix.shape[0] * matrix.shape[1]\n",
    "    actual_size = matrix.size\n",
    "    sparsity = (1 - (actual_size / total_size)) * 100\n",
    "    return(sparsity)"
   ]
  },
  {
   "cell_type": "code",
   "execution_count": 9,
   "metadata": {},
   "outputs": [
    {
     "data": {
      "text/plain": [
       "99.8700882953749"
      ]
     },
     "execution_count": 9,
     "metadata": {},
     "output_type": "execute_result"
    }
   ],
   "source": [
    "# Checking the sparsity\n",
    "sparsity(product_user_matrix)"
   ]
  },
  {
   "cell_type": "code",
   "execution_count": 10,
   "metadata": {},
   "outputs": [],
   "source": [
    "# To find the top related items\n",
    "class TopRelated(object):\n",
    "    def __init__(self, product_factors):\n",
    "        # fully normalize artist_factors, so can compare with only the dot product\n",
    "        norms = np.linalg.norm(product_factors, axis=-1)\n",
    "        self.factors = product_factors / norms[:, np.newaxis]\n",
    "\n",
    "    def get_related(self, product_id, N=10):\n",
    "        scores = self.factors.dot(self.factors[product_id])\n",
    "        best = np.argpartition(scores, -N)[-N:]\n",
    "        return sorted(zip(best, scores[best]), key=lambda x: -x[1])"
   ]
  },
  {
   "cell_type": "code",
   "execution_count": 11,
   "metadata": {},
   "outputs": [],
   "source": [
    "# To find the top recommended items\n",
    "class TopRecommended(object):\n",
    "    def __init__(self, product_factors,user_factors):\n",
    "        self.product_factors =product_factors\n",
    "        self.user_factors =user_factors\n",
    "\n",
    "    def get_recommended(self, user_id, N=10):\n",
    "        scores =  self.user_factors.T[user_id].dot(self.product_factors.T)\n",
    "        best = np.argpartition(scores, -N)[-N:]\n",
    "        return sorted(zip(best, scores[best]), key=lambda x: -x[1])\n",
    "    \n",
    "    def recommend_new(self, userid, N=10):        \n",
    "        user = self.user_factors.T[userid]\n",
    "#         calculate the top N items, removing the users own liked items from the results\n",
    "        liked = product_user_matrix[userid].indices\n",
    "        scores =  user.dot(self.product_factors.T)\n",
    "        count = N + len(liked)\n",
    "        if count < len(scores):\n",
    "            ids = np.argpartition(scores, -count)[-count:]\n",
    "            best = sorted(zip(ids, scores[ids]), key=lambda x: -x[1])\n",
    "        else:\n",
    "            best = sorted(enumerate(scores), key=lambda x: -x[1])\n",
    "        return list(itertools.islice((rec for rec in best if rec[0] not in liked), N))    "
   ]
  },
  {
   "cell_type": "code",
   "execution_count": 12,
   "metadata": {},
   "outputs": [],
   "source": [
    "# Initializing class which returns top recommended items for a user_id\n",
    "tp_recm=TopRecommended(product_factors,user_factors)"
   ]
  },
  {
   "cell_type": "code",
   "execution_count": 144,
   "metadata": {},
   "outputs": [
    {
     "name": "stdout",
     "output_type": "stream",
     "text": [
      "(50,)\n",
      "(50, 49677)\n",
      "1923\n",
      "(49677,)\n"
     ]
    },
    {
     "data": {
      "text/plain": [
       "[(31792, 4.8472453265396231e-05),\n",
       " (35271, 3.7501003169646341e-05),\n",
       " (40554, 3.3659225008291585e-05),\n",
       " (5205, 3.2425897178474229e-05),\n",
       " (26868, 3.237165488990731e-05),\n",
       " (3184, 3.2156742864861356e-05),\n",
       " (3209, 2.7867475059536274e-05),\n",
       " (3780, 2.7027152450202484e-05),\n",
       " (15325, 2.6843099919577234e-05),\n",
       " (1222, 2.6331188399805826e-05)]"
      ]
     },
     "execution_count": 144,
     "metadata": {},
     "output_type": "execute_result"
    }
   ],
   "source": [
    "# calculate top new recommended Item for a user\n",
    "tp_recm.recommend_new(2)"
   ]
  },
  {
   "cell_type": "code",
   "execution_count": 92,
   "metadata": {},
   "outputs": [
    {
     "data": {
      "text/plain": [
       "[(31792, 4.8472453265396231e-05),\n",
       " (35271, 3.7501003169646341e-05),\n",
       " (40554, 3.3659225008291585e-05),\n",
       " (5205, 3.2425897178474229e-05),\n",
       " (26868, 3.237165488990731e-05),\n",
       " (3184, 3.2156742864861356e-05),\n",
       " (3209, 2.7867475059536274e-05),\n",
       " (3780, 2.7027152450202484e-05),\n",
       " (15325, 2.6843099919577234e-05),\n",
       " (1222, 2.6331188399805826e-05)]"
      ]
     },
     "execution_count": 92,
     "metadata": {},
     "output_type": "execute_result"
    }
   ],
   "source": [
    "# calculate top recommended Item for a user\n",
    "tp_recm.get_recommended(2)"
   ]
  },
  {
   "cell_type": "code",
   "execution_count": null,
   "metadata": {},
   "outputs": [],
   "source": []
  }
 ],
 "metadata": {
  "kernelspec": {
   "display_name": "Python 3",
   "language": "python",
   "name": "python3"
  },
  "language_info": {
   "codemirror_mode": {
    "name": "ipython",
    "version": 3
   },
   "file_extension": ".py",
   "mimetype": "text/x-python",
   "name": "python",
   "nbconvert_exporter": "python",
   "pygments_lexer": "ipython3",
   "version": "3.5.2"
  }
 },
 "nbformat": 4,
 "nbformat_minor": 2
}
