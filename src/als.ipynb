{
 "cells": [
  {
   "cell_type": "code",
   "execution_count": 2,
   "metadata": {},
   "outputs": [],
   "source": [
    "# Imports\n",
    "\n",
    "from pathlib import Path\n",
    "from datetime import datetime\n",
    "\n",
    "import scipy.sparse as sparse\n",
    "import implicit\n",
    "import pandas as pd\n",
    "import numpy as np\n",
    "import pickle"
   ]
  },
  {
   "cell_type": "code",
   "execution_count": 3,
   "metadata": {},
   "outputs": [],
   "source": [
    "# Helper Functions\n",
    "\n",
    "def sparsity(matrix):\n",
    "    total_size = matrix.shape[0] * matrix.shape[1]\n",
    "    actual_size = matrix.size\n",
    "    sparsity = (1 - (actual_size / total_size)) * 100\n",
    "    return(sparsity)\n",
    "\n",
    "\n",
    "def timestamp():\n",
    "    now = datetime.now()\n",
    "    return \"{}_{}_{}_{}{}\".format(now.year, now.month, now.day, now.hour, now.minute)\n",
    "\n",
    "\n",
    "def get_k_popular(k):\n",
    "    popular_products = list(df_order_products_prior_merged[\"product_id\"].value_counts().head(k).index)\n",
    "    return popular_products"
   ]
  },
  {
   "cell_type": "markdown",
   "metadata": {},
   "source": [
    "## Load datasets"
   ]
  },
  {
   "cell_type": "code",
   "execution_count": 5,
   "metadata": {},
   "outputs": [],
   "source": [
    "def make_test_data(test_data_path):\n",
    "    # Read train and test order csvs\n",
    "    df_order_products_train = pd.read_csv(\"../data/order_products__train.csv\")\n",
    "#     df_order_products_submission = pd.read_csv(\"../data/sample_submission.csv\")\n",
    "#     current_order_user_df = df_orders.loc[(df_orders.eval_set == \"train\") | (df_orders.eval_set == \"test\")].reset_index()\n",
    "    current_order_user_df = df_orders.loc[(df_orders.eval_set == \"train\")].reset_index()\n",
    "    current_order_user_df = current_order_user_df[[\"order_id\", \"user_id\"]]\n",
    "\n",
    "    assert len(current_order_user_df[\"order_id\"].unique()) == len(df_order_products_train[\"order_id\"].unique())# + len(df_order_products_submission[\"order_id\"].unique())\n",
    "\n",
    "    # Convert train and submission dataframes into the same format\n",
    "    df_order_products_train = df_order_products_train[[\"order_id\", \"product_id\"]]\n",
    "    df_order_products_train = df_order_products_train.groupby(\"order_id\")[\"product_id\"].apply(list).reset_index().rename(columns={\"product_id\": \"products\"})\n",
    "#     df_order_products_submission[\"products\"] = df_order_products_submission[\"products\"].apply(lambda p: p.strip().split())\n",
    "\n",
    "#     test = set(df_order_products_submission[\"order_id\"].unique().tolist())\n",
    "#     train = set(df_order_products_train[\"order_id\"].unique().tolist())\n",
    "#     assert len(test & train) == 0\n",
    "\n",
    "#     df_test_order_products = pd.concat([df_order_products_train, df_order_products_submission])\n",
    "    df_test_order_products = df_order_products_train\n",
    "\n",
    "    assert df_test_order_products.size == df_order_products_train.size # + df_order_products_submission.size\n",
    "    assert df_test_order_products.size == current_order_user_df.size\n",
    "\n",
    "    df_test_user_products = pd.merge(current_order_user_df, df_test_order_products, on=\"order_id\")\n",
    "    df_test_user_products = df_test_user_products[[\"user_id\", \"products\"]]\n",
    "\n",
    "    df_test_user_products.to_csv(test_data_path, index_label=False)\n",
    "\n",
    "\n",
    "# Order datasets\n",
    "df_order_products_prior = pd.read_csv(\"../data/order_products__prior.csv\")\n",
    "df_orders = pd.read_csv(\"../data/orders.csv\") \n",
    "\n",
    "# If test data csv doesn't exist already, create it\n",
    "test_data_path = \"../data/test_user_products1.csv\"\n",
    "if not Path(test_data_path).is_file():\n",
    "    make_test_data(test_data_path)\n",
    "df_test_user_products = pd.read_csv(test_data_path)\n",
    "\n",
    "# Merge Prior orders and Products\n",
    "df_products = pd.read_csv(\"../data/products.csv\")\n",
    "df_order_products_prior_merged = pd.merge(df_order_products_prior, df_products, on=\"product_id\", how=\"left\")"
   ]
  },
  {
   "cell_type": "markdown",
   "metadata": {},
   "source": [
    "## Load Product Item Matrix"
   ]
  },
  {
   "cell_type": "code",
   "execution_count": 7,
   "metadata": {},
   "outputs": [],
   "source": [
    "def build_product_item_matrix(matrix_path):\n",
    "    # Consider only \"prior\" orders and remove all columns except order_id and user_id from df_orders\n",
    "    prior_order_user = df_orders.loc[df_orders.eval_set == \"prior\"]\n",
    "    prior_order_user = prior_order_user[[\"order_id\", \"user_id\"]]\n",
    "\n",
    "    # Remove all columns except order_id and user_id from df_orders\n",
    "    prior_order_product = df_order_products_prior[[\"order_id\", \"product_id\"]]\n",
    "    \n",
    "    merged_order_product_user = pd.merge(prior_order_user, prior_order_product, on=\"order_id\")\n",
    "    df_user_product = merged_order_product_user[[\"user_id\", \"product_id\"]]\n",
    "    df_user_product = df_user_product.groupby([\"user_id\", \"product_id\"]).size().reset_index().rename(columns={0:\"quantity\"})\n",
    "    \n",
    "    users = list(np.sort(df_user_product.user_id.unique()))\n",
    "    products = list(df_user_product.product_id.unique())\n",
    "    quantity = list(df_user_product.quantity)\n",
    "\n",
    "    col_indices = df_user_product.user_id.astype('category', categories = users).cat.codes \n",
    "    row_indices = df_user_product.product_id.astype('category', categories = products).cat.codes \n",
    "    print(col_indices)\n",
    "    product_user_matrix = sparse.csr_matrix((quantity, (row_indices, col_indices)), shape=(len(products), len(users)))\n",
    "    sparse.save_npz(matrix_path, product_user_matrix)\n",
    "\n",
    "\n",
    "REBUILD_MATRIX = False\n",
    "matrix_path = \"../data/product_item_matrix.npz\"\n",
    "if REBUILD_MATRIX or not Path(matrix_path).is_file():\n",
    "    build_product_item_matrix(matrix_path)\n",
    "product_user_matrix = sparse.load_npz(matrix_path)\n",
    "# product_user_matrix"
   ]
  },
  {
   "cell_type": "code",
   "execution_count": 8,
   "metadata": {},
   "outputs": [
    {
     "data": {
      "text/plain": [
       "99.8700882953749"
      ]
     },
     "execution_count": 8,
     "metadata": {},
     "output_type": "execute_result"
    }
   ],
   "source": [
    "sparsity(product_user_matrix)"
   ]
  },
  {
   "cell_type": "markdown",
   "metadata": {},
   "source": [
    "## Model"
   ]
  },
  {
   "cell_type": "code",
   "execution_count": 9,
   "metadata": {},
   "outputs": [],
   "source": [
    "def build_als(prod_user_matrix, alpha, factors, regularization, iterations):\n",
    "    # build model\n",
    "    model = implicit.als.AlternatingLeastSquares(factors=factors, regularization=regularization, iterations=iterations)\n",
    "    model.approximate_similar_items = False\n",
    "    model.fit((product_user_matrix * alpha).astype(\"double\"))\n",
    "\n",
    "    # save model to disk\n",
    "    filepath = \"../models/als/als_{}.model\".format(timestamp())\n",
    "    with open(filepath, \"wb+\") as f:\n",
    "        pickle.dump(model, f, pickle.HIGHEST_PROTOCOL)\n",
    "    return filepath\n",
    "\n",
    "# Build Model\n",
    "REBUILD_MODEL = False\n",
    "model_path = \"../models/als/als_2017_11_21_1338.model\"\n",
    "if REBUILD_MODEL or not Path(model_path).exists():\n",
    "    model_path = build_als(product_user_matrix, alpha=40, factors=64, regularization=0.01, iterations=15)\n",
    "with open(model_path, \"rb\") as f:\n",
    "    als_model = pickle.load(f)"
   ]
  },
  {
   "cell_type": "code",
   "execution_count": 10,
   "metadata": {},
   "outputs": [],
   "source": [
    "# recommend items for a user\n",
    "user_id = 17\n",
    "recommendations = als_model.recommend(user_id, product_user_matrix.T, N = 10)"
   ]
  },
  {
   "cell_type": "code",
   "execution_count": 29,
   "metadata": {},
   "outputs": [
    {
     "name": "stdout",
     "output_type": "stream",
     "text": [
      "Actual products bought by user: 17\n",
      "['Grade A Extra Large Eggs', 'Select-A-Size Paper Towels, White, 2 Huge Rolls = 5 Regular Rolls  Towels/Napkins', 'Light Spread Butter Substitute', 'Strawberries', 'Raspberries', 'Ultra Soft Bathroom Tissue Double Rolls']\n",
      "Recommendations for user: 17\n",
      "\n",
      "Recommended products bought by user: 17\n",
      "['Gochujang Sauce', 'Green Chile Anytime Sauce', 'Organic Honeycrisp Apples', 'XXX Acai Blueberry Pomegranate', 'Wheat Chex Cereal', 'Brioche Bachelor Loaf', 'Yogurt Strawberry Pomegranate', 'Organic Sprouted Barley Bread', 'Nutter Butter Cookie Bites Go-Pak', 'Fabric Softener, Geranium Scent']\n"
     ]
    }
   ],
   "source": [
    "# Actual \n",
    "row = df_test_user_products.loc[df_test_user_products.user_id == user_id]\n",
    "actual = list(row[\"products\"])\n",
    "actual = actual[0][1:-1]\n",
    "actual = list(np.array([p.strip() for p in actual.strip().split(\",\")]).astype(np.int64))\n",
    "act_products = []\n",
    "for pid in actual:\n",
    "    act_products.extend((df_products.loc[df_products.product_id == pid].product_name).tolist())\n",
    "print(\"Actual products bought by user: {}\\n{}\".format(user_id, act_products))\n",
    "\n",
    "# Recommended\n",
    "print(\"Recommendations for user: {}\\n\".format(user_id))\n",
    "r = [r[0] for r in recommendations]\n",
    "rec_products = []\n",
    "for pid in r:\n",
    "    rec_products.extend((df_products.loc[df_products.product_id == pid].product_name).tolist())\n",
    "print(\"Recommended products bought by user: {}\\n{}\".format(user_id, rec_products))\n"
   ]
  },
  {
   "cell_type": "code",
   "execution_count": 158,
   "metadata": {},
   "outputs": [
    {
     "name": "stdout",
     "output_type": "stream",
     "text": [
      "Actual products bought by user: 17\n",
      "\n",
      "18533    Grade A Extra Large Eggs\n",
      "Name: product_name, dtype: object\n",
      "1216    Select-A-Size Paper Towels, White, 2 Huge Roll...\n",
      "Name: product_name, dtype: object\n",
      "12719    Light Spread Butter Substitute\n",
      "Name: product_name, dtype: object\n",
      "16796    Strawberries\n",
      "Name: product_name, dtype: object\n",
      "43351    Raspberries\n",
      "Name: product_name, dtype: object\n",
      "4373    Ultra Soft Bathroom Tissue Double Rolls\n",
      "Name: product_name, dtype: object\n"
     ]
    }
   ],
   "source": [
    "user_id = 17\n",
    "print(\"Actual products bought by user: {}\\n\".format(user_id))\n",
    "\n",
    "row = df_test_user_products.loc[df_test_user_products.user_id == user_id]\n",
    "actual = list(row[\"products\"])\n",
    "actual = actual[0][1:-1]\n",
    "actual = list(np.array([p.strip() for p in actual.strip().split(\",\")]).astype(np.int64))\n",
    "for pid in actual:\n",
    "    print(df_products.loc[df_products.product_id == pid].product_name)"
   ]
  },
  {
   "cell_type": "code",
   "execution_count": 97,
   "metadata": {},
   "outputs": [
    {
     "data": {
      "text/plain": [
       "set()"
      ]
     },
     "execution_count": 97,
     "metadata": {},
     "output_type": "execute_result"
    }
   ],
   "source": [
    "r.intersection(actual)"
   ]
  },
  {
   "cell_type": "markdown",
   "metadata": {},
   "source": [
    "## Evaluation"
   ]
  },
  {
   "cell_type": "code",
   "execution_count": 105,
   "metadata": {},
   "outputs": [],
   "source": [
    "popular_products = get_k_popular(10)"
   ]
  },
  {
   "cell_type": "code",
   "execution_count": 108,
   "metadata": {},
   "outputs": [
    {
     "name": "stdout",
     "output_type": "stream",
     "text": [
      "Index Error\n",
      "index: 131208\n",
      "user_id: 206209\n",
      "actual: ['6846', '9405', '24852', '40603', '15655', '42606', '37966', '39216']\n",
      "popular: ['24852', '13176', '21137', '21903', '47209']\n"
     ]
    },
    {
     "ename": "IndexError",
     "evalue": "index 206209 is out of bounds for axis 0 with size 206209",
     "output_type": "error",
     "traceback": [
      "\u001b[0;31m---------------------------------------------------------------------------\u001b[0m",
      "\u001b[0;31mIndexError\u001b[0m                                Traceback (most recent call last)",
      "\u001b[0;32m<ipython-input-108-e052517dc3fd>\u001b[0m in \u001b[0;36m<module>\u001b[0;34m()\u001b[0m\n\u001b[1;32m     32\u001b[0m         \u001b[0mprint\u001b[0m\u001b[0;34m(\u001b[0m\u001b[0;34m\"actual: {}\"\u001b[0m\u001b[0;34m.\u001b[0m\u001b[0mformat\u001b[0m\u001b[0;34m(\u001b[0m\u001b[0mactual\u001b[0m\u001b[0;34m)\u001b[0m\u001b[0;34m)\u001b[0m\u001b[0;34m\u001b[0m\u001b[0m\n\u001b[1;32m     33\u001b[0m         \u001b[0mprint\u001b[0m\u001b[0;34m(\u001b[0m\u001b[0;34m\"popular: {}\"\u001b[0m\u001b[0;34m.\u001b[0m\u001b[0mformat\u001b[0m\u001b[0;34m(\u001b[0m\u001b[0mpopular_products\u001b[0m\u001b[0;34m[\u001b[0m\u001b[0;34m:\u001b[0m\u001b[0;36m5\u001b[0m\u001b[0;34m]\u001b[0m\u001b[0;34m)\u001b[0m\u001b[0;34m)\u001b[0m\u001b[0;34m\u001b[0m\u001b[0m\n\u001b[0;32m---> 34\u001b[0;31m         \u001b[0;32mraise\u001b[0m \u001b[0me\u001b[0m\u001b[0;34m\u001b[0m\u001b[0m\n\u001b[0m\u001b[1;32m     35\u001b[0m \u001b[0;34m\u001b[0m\u001b[0m\n\u001b[1;32m     36\u001b[0m \u001b[0;34m\u001b[0m\u001b[0m\n",
      "\u001b[0;32m<ipython-input-108-e052517dc3fd>\u001b[0m in \u001b[0;36m<module>\u001b[0;34m()\u001b[0m\n\u001b[1;32m     17\u001b[0m         \u001b[0mactual\u001b[0m \u001b[0;34m=\u001b[0m \u001b[0;34m[\u001b[0m\u001b[0mp\u001b[0m\u001b[0;34m.\u001b[0m\u001b[0mstrip\u001b[0m\u001b[0;34m(\u001b[0m\u001b[0;34m)\u001b[0m \u001b[0;32mfor\u001b[0m \u001b[0mp\u001b[0m \u001b[0;32min\u001b[0m \u001b[0mactual\u001b[0m\u001b[0;34m.\u001b[0m\u001b[0mstrip\u001b[0m\u001b[0;34m(\u001b[0m\u001b[0;34m)\u001b[0m\u001b[0;34m.\u001b[0m\u001b[0msplit\u001b[0m\u001b[0;34m(\u001b[0m\u001b[0;34m\",\"\u001b[0m\u001b[0;34m)\u001b[0m\u001b[0;34m]\u001b[0m\u001b[0;34m\u001b[0m\u001b[0m\n\u001b[1;32m     18\u001b[0m \u001b[0;34m\u001b[0m\u001b[0m\n\u001b[0;32m---> 19\u001b[0;31m         \u001b[0mrecommended\u001b[0m \u001b[0;34m=\u001b[0m \u001b[0mals_model\u001b[0m\u001b[0;34m.\u001b[0m\u001b[0mrecommend\u001b[0m\u001b[0;34m(\u001b[0m\u001b[0mrow\u001b[0m\u001b[0;34m[\u001b[0m\u001b[0;34m\"user_id\"\u001b[0m\u001b[0;34m]\u001b[0m\u001b[0;34m,\u001b[0m \u001b[0muser_product_matrix\u001b[0m\u001b[0;34m,\u001b[0m \u001b[0mN\u001b[0m\u001b[0;34m=\u001b[0m\u001b[0;36m10\u001b[0m\u001b[0;34m)\u001b[0m\u001b[0;34m\u001b[0m\u001b[0m\n\u001b[0m\u001b[1;32m     20\u001b[0m         \u001b[0mrecommended\u001b[0m \u001b[0;34m=\u001b[0m \u001b[0;34m[\u001b[0m\u001b[0mstr\u001b[0m\u001b[0;34m(\u001b[0m\u001b[0mr\u001b[0m\u001b[0;34m[\u001b[0m\u001b[0;36m0\u001b[0m\u001b[0;34m]\u001b[0m\u001b[0;34m)\u001b[0m \u001b[0;32mfor\u001b[0m \u001b[0mr\u001b[0m \u001b[0;32min\u001b[0m \u001b[0mrecommended\u001b[0m\u001b[0;34m]\u001b[0m\u001b[0;34m\u001b[0m\u001b[0m\n\u001b[1;32m     21\u001b[0m \u001b[0;34m\u001b[0m\u001b[0m\n",
      "\u001b[0;32m~/.virtualenvs/cs6220_project/lib/python3.6/site-packages/implicit/als.py\u001b[0m in \u001b[0;36mrecommend\u001b[0;34m(self, userid, user_items, N, filter_items, recalculate_user)\u001b[0m\n\u001b[1;32m    129\u001b[0m \u001b[0;34m\u001b[0m\u001b[0m\n\u001b[1;32m    130\u001b[0m     \u001b[0;32mdef\u001b[0m \u001b[0mrecommend\u001b[0m\u001b[0;34m(\u001b[0m\u001b[0mself\u001b[0m\u001b[0;34m,\u001b[0m \u001b[0muserid\u001b[0m\u001b[0;34m,\u001b[0m \u001b[0muser_items\u001b[0m\u001b[0;34m,\u001b[0m \u001b[0mN\u001b[0m\u001b[0;34m=\u001b[0m\u001b[0;36m10\u001b[0m\u001b[0;34m,\u001b[0m \u001b[0mfilter_items\u001b[0m\u001b[0;34m=\u001b[0m\u001b[0;32mNone\u001b[0m\u001b[0;34m,\u001b[0m \u001b[0mrecalculate_user\u001b[0m\u001b[0;34m=\u001b[0m\u001b[0;32mFalse\u001b[0m\u001b[0;34m)\u001b[0m\u001b[0;34m:\u001b[0m\u001b[0;34m\u001b[0m\u001b[0m\n\u001b[0;32m--> 131\u001b[0;31m         \u001b[0muser\u001b[0m \u001b[0;34m=\u001b[0m \u001b[0mself\u001b[0m\u001b[0;34m.\u001b[0m\u001b[0m_user_factor\u001b[0m\u001b[0;34m(\u001b[0m\u001b[0muserid\u001b[0m\u001b[0;34m,\u001b[0m \u001b[0muser_items\u001b[0m\u001b[0;34m,\u001b[0m \u001b[0mrecalculate_user\u001b[0m\u001b[0;34m)\u001b[0m\u001b[0;34m\u001b[0m\u001b[0m\n\u001b[0m\u001b[1;32m    132\u001b[0m         \u001b[0;31m# calculate the top N items, removing the users own liked items from the results\u001b[0m\u001b[0;34m\u001b[0m\u001b[0;34m\u001b[0m\u001b[0m\n\u001b[1;32m    133\u001b[0m         \u001b[0mliked\u001b[0m \u001b[0;34m=\u001b[0m \u001b[0mset\u001b[0m\u001b[0;34m(\u001b[0m\u001b[0muser_items\u001b[0m\u001b[0;34m[\u001b[0m\u001b[0muserid\u001b[0m\u001b[0;34m]\u001b[0m\u001b[0;34m.\u001b[0m\u001b[0mindices\u001b[0m\u001b[0;34m)\u001b[0m\u001b[0;34m\u001b[0m\u001b[0m\n",
      "\u001b[0;32m~/.virtualenvs/cs6220_project/lib/python3.6/site-packages/implicit/als.py\u001b[0m in \u001b[0;36m_user_factor\u001b[0;34m(self, userid, user_items, recalculate_user)\u001b[0m\n\u001b[1;32m    148\u001b[0m     \u001b[0;32mdef\u001b[0m \u001b[0m_user_factor\u001b[0m\u001b[0;34m(\u001b[0m\u001b[0mself\u001b[0m\u001b[0;34m,\u001b[0m \u001b[0muserid\u001b[0m\u001b[0;34m,\u001b[0m \u001b[0muser_items\u001b[0m\u001b[0;34m,\u001b[0m \u001b[0mrecalculate_user\u001b[0m\u001b[0;34m=\u001b[0m\u001b[0;32mFalse\u001b[0m\u001b[0;34m)\u001b[0m\u001b[0;34m:\u001b[0m\u001b[0;34m\u001b[0m\u001b[0m\n\u001b[1;32m    149\u001b[0m         \u001b[0;32mif\u001b[0m \u001b[0;32mnot\u001b[0m \u001b[0mrecalculate_user\u001b[0m\u001b[0;34m:\u001b[0m\u001b[0;34m\u001b[0m\u001b[0m\n\u001b[0;32m--> 150\u001b[0;31m             \u001b[0;32mreturn\u001b[0m \u001b[0mself\u001b[0m\u001b[0;34m.\u001b[0m\u001b[0muser_factors\u001b[0m\u001b[0;34m[\u001b[0m\u001b[0muserid\u001b[0m\u001b[0;34m]\u001b[0m\u001b[0;34m\u001b[0m\u001b[0m\n\u001b[0m\u001b[1;32m    151\u001b[0m         return user_factor(self.item_factors, self.YtY,\n\u001b[1;32m    152\u001b[0m                            \u001b[0muser_items\u001b[0m\u001b[0;34m.\u001b[0m\u001b[0mtocsr\u001b[0m\u001b[0;34m(\u001b[0m\u001b[0;34m)\u001b[0m\u001b[0;34m,\u001b[0m \u001b[0muserid\u001b[0m\u001b[0;34m,\u001b[0m\u001b[0;34m\u001b[0m\u001b[0m\n",
      "\u001b[0;31mIndexError\u001b[0m: index 206209 is out of bounds for axis 0 with size 206209"
     ]
    }
   ],
   "source": [
    "def recall_score(actual, pred):\n",
    "    actual, pred = set(actual), set(pred)\n",
    "    return len(actual.intersection(pred)) / len(actual)\n",
    "\n",
    "\n",
    "user_product_matrix = product_user_matrix.T.tocsr()\n",
    "model_recalls = []\n",
    "popular_recalls = []\n",
    "\n",
    "for index, row in df_test_user_products.iterrows():\n",
    "    try:\n",
    "        actual = row[\"products\"][1:-1]\n",
    "        actual = [p.strip() for p in actual.strip().split(\",\")]\n",
    "    \n",
    "        recommended = als_model.recommend(row[\"user_id\"], user_product_matrix, N=10)\n",
    "        recommended = [r[0] for r in recommended]\n",
    "        \n",
    "        model_recalls.append(recall_score(actual, recommended))\n",
    "        popular_recalls.append(recall_score(actual, popular_products))\n",
    "        \n",
    "        if index == 10:\n",
    "            break\n",
    "            \n",
    "    except Exception as e:\n",
    "        print(\"Index Error\")\n",
    "        print(\"index: {}\".format(index))\n",
    "        print(\"user_id: {}\".format(row[\"user_id\"]))\n",
    "        print(\"actual: {}\".format(actual))\n",
    "        print(\"popular: {}\".format(popular_products[:5]))\n",
    "        raise e\n",
    "\n",
    "    \n",
    "model_mean_recall = np.mean(model_recalls)\n",
    "popular_mean_recall = np.mean(popular_recalls)\n",
    "\n",
    "print(\"Model: {}\".format(model_mean_recall))\n",
    "print(\"Popular: {}\".format(popular_mean_recall))"
   ]
  },
  {
   "cell_type": "code",
   "execution_count": 110,
   "metadata": {},
   "outputs": [
    {
     "data": {
      "text/plain": [
       "0.00012778417197992074"
      ]
     },
     "execution_count": 110,
     "metadata": {},
     "output_type": "execute_result"
    }
   ],
   "source": [
    "np.mean(model_recalls)"
   ]
  },
  {
   "cell_type": "code",
   "execution_count": 111,
   "metadata": {},
   "outputs": [
    {
     "data": {
      "text/plain": [
       "0.069842730885500859"
      ]
     },
     "execution_count": 111,
     "metadata": {},
     "output_type": "execute_result"
    }
   ],
   "source": [
    "np.mean(popular_recalls)"
   ]
  },
  {
   "cell_type": "code",
   "execution_count": 112,
   "metadata": {},
   "outputs": [
    {
     "data": {
      "text/plain": [
       "6.9"
      ]
     },
     "execution_count": 112,
     "metadata": {},
     "output_type": "execute_result"
    }
   ],
   "source": [
    "0.069*100"
   ]
  }
 ],
 "metadata": {
  "kernelspec": {
   "display_name": "Python 3",
   "language": "python",
   "name": "python3"
  },
  "language_info": {
   "codemirror_mode": {
    "name": "ipython",
    "version": 3
   },
   "file_extension": ".py",
   "mimetype": "text/x-python",
   "name": "python",
   "nbconvert_exporter": "python",
   "pygments_lexer": "ipython3",
   "version": "3.6.0"
  }
 },
 "nbformat": 4,
 "nbformat_minor": 2
}
